{
  "metadata": {
    "kernelspec": {
      "name": "python",
      "display_name": "Python (Pyodide)",
      "language": "python"
    },
    "language_info": {
      "codemirror_mode": {
        "name": "python",
        "version": 3
      },
      "file_extension": ".py",
      "mimetype": "text/x-python",
      "name": "python",
      "nbconvert_exporter": "python",
      "pygments_lexer": "ipython3",
      "version": "3.8"
    }
  },
  "nbformat_minor": 4,
  "nbformat": 4,
  "cells": [
    {
      "cell_type": "code",
      "source": "import pandas as pd",
      "metadata": {
        "trusted": true
      },
      "outputs": [],
      "execution_count": 1
    },
    {
      "cell_type": "code",
      "source": "df=pd.read_csv(\"Mall_Customers.csv\")\ndf.head()",
      "metadata": {
        "trusted": true
      },
      "outputs": [
        {
          "execution_count": 22,
          "output_type": "execute_result",
          "data": {
            "text/plain": "   CustomerID  Gender  Age  Annual Income (k$)  Spending Score (1-100)\n0           1    Male   19                  15                      39\n1           2    Male   21                  15                      81\n2           3  Female   20                  16                       6\n3           4  Female   23                  16                      77\n4           5  Female   31                  17                      40",
            "text/html": "<div>\n<style scoped>\n    .dataframe tbody tr th:only-of-type {\n        vertical-align: middle;\n    }\n\n    .dataframe tbody tr th {\n        vertical-align: top;\n    }\n\n    .dataframe thead th {\n        text-align: right;\n    }\n</style>\n<table border=\"1\" class=\"dataframe\">\n  <thead>\n    <tr style=\"text-align: right;\">\n      <th></th>\n      <th>CustomerID</th>\n      <th>Gender</th>\n      <th>Age</th>\n      <th>Annual Income (k$)</th>\n      <th>Spending Score (1-100)</th>\n    </tr>\n  </thead>\n  <tbody>\n    <tr>\n      <th>0</th>\n      <td>1</td>\n      <td>Male</td>\n      <td>19</td>\n      <td>15</td>\n      <td>39</td>\n    </tr>\n    <tr>\n      <th>1</th>\n      <td>2</td>\n      <td>Male</td>\n      <td>21</td>\n      <td>15</td>\n      <td>81</td>\n    </tr>\n    <tr>\n      <th>2</th>\n      <td>3</td>\n      <td>Female</td>\n      <td>20</td>\n      <td>16</td>\n      <td>6</td>\n    </tr>\n    <tr>\n      <th>3</th>\n      <td>4</td>\n      <td>Female</td>\n      <td>23</td>\n      <td>16</td>\n      <td>77</td>\n    </tr>\n    <tr>\n      <th>4</th>\n      <td>5</td>\n      <td>Female</td>\n      <td>31</td>\n      <td>17</td>\n      <td>40</td>\n    </tr>\n  </tbody>\n</table>\n</div>"
          },
          "metadata": {}
        }
      ],
      "execution_count": 22
    },
    {
      "cell_type": "code",
      "source": "df.shape",
      "metadata": {
        "trusted": true
      },
      "outputs": [
        {
          "execution_count": 10,
          "output_type": "execute_result",
          "data": {
            "text/plain": "(200, 5)"
          },
          "metadata": {}
        }
      ],
      "execution_count": 10
    },
    {
      "cell_type": "code",
      "source": "df.isna().sum()",
      "metadata": {
        "trusted": true
      },
      "outputs": [
        {
          "execution_count": 23,
          "output_type": "execute_result",
          "data": {
            "text/plain": "CustomerID                0\nGender                    0\nAge                       0\nAnnual Income (k$)        0\nSpending Score (1-100)    0\ndtype: int64"
          },
          "metadata": {}
        }
      ],
      "execution_count": 23
    },
    {
      "cell_type": "code",
      "source": "df.info()",
      "metadata": {
        "trusted": true
      },
      "outputs": [
        {
          "name": "stdout",
          "text": "<class 'pandas.core.frame.DataFrame'>\nRangeIndex: 200 entries, 0 to 199\nData columns (total 5 columns):\n #   Column                  Non-Null Count  Dtype \n---  ------                  --------------  ----- \n 0   CustomerID              200 non-null    int64 \n 1   Gender                  200 non-null    object\n 2   Age                     200 non-null    int64 \n 3   Annual Income (k$)      200 non-null    int64 \n 4   Spending Score (1-100)  200 non-null    int64 \ndtypes: int64(4), object(1)\nmemory usage: 7.1+ KB\n",
          "output_type": "stream"
        }
      ],
      "execution_count": 24
    },
    {
      "cell_type": "code",
      "source": "df.describe()",
      "metadata": {
        "trusted": true
      },
      "outputs": [
        {
          "execution_count": 25,
          "output_type": "execute_result",
          "data": {
            "text/plain": "       CustomerID         Age  Annual Income (k$)  Spending Score (1-100)\ncount  200.000000  200.000000          200.000000              200.000000\nmean   100.500000   38.850000           60.560000               50.200000\nstd     57.879185   13.969007           26.264721               25.823522\nmin      1.000000   18.000000           15.000000                1.000000\n25%     50.750000   28.750000           41.500000               34.750000\n50%    100.500000   36.000000           61.500000               50.000000\n75%    150.250000   49.000000           78.000000               73.000000\nmax    200.000000   70.000000          137.000000               99.000000",
            "text/html": "<div>\n<style scoped>\n    .dataframe tbody tr th:only-of-type {\n        vertical-align: middle;\n    }\n\n    .dataframe tbody tr th {\n        vertical-align: top;\n    }\n\n    .dataframe thead th {\n        text-align: right;\n    }\n</style>\n<table border=\"1\" class=\"dataframe\">\n  <thead>\n    <tr style=\"text-align: right;\">\n      <th></th>\n      <th>CustomerID</th>\n      <th>Age</th>\n      <th>Annual Income (k$)</th>\n      <th>Spending Score (1-100)</th>\n    </tr>\n  </thead>\n  <tbody>\n    <tr>\n      <th>count</th>\n      <td>200.000000</td>\n      <td>200.000000</td>\n      <td>200.000000</td>\n      <td>200.000000</td>\n    </tr>\n    <tr>\n      <th>mean</th>\n      <td>100.500000</td>\n      <td>38.850000</td>\n      <td>60.560000</td>\n      <td>50.200000</td>\n    </tr>\n    <tr>\n      <th>std</th>\n      <td>57.879185</td>\n      <td>13.969007</td>\n      <td>26.264721</td>\n      <td>25.823522</td>\n    </tr>\n    <tr>\n      <th>min</th>\n      <td>1.000000</td>\n      <td>18.000000</td>\n      <td>15.000000</td>\n      <td>1.000000</td>\n    </tr>\n    <tr>\n      <th>25%</th>\n      <td>50.750000</td>\n      <td>28.750000</td>\n      <td>41.500000</td>\n      <td>34.750000</td>\n    </tr>\n    <tr>\n      <th>50%</th>\n      <td>100.500000</td>\n      <td>36.000000</td>\n      <td>61.500000</td>\n      <td>50.000000</td>\n    </tr>\n    <tr>\n      <th>75%</th>\n      <td>150.250000</td>\n      <td>49.000000</td>\n      <td>78.000000</td>\n      <td>73.000000</td>\n    </tr>\n    <tr>\n      <th>max</th>\n      <td>200.000000</td>\n      <td>70.000000</td>\n      <td>137.000000</td>\n      <td>99.000000</td>\n    </tr>\n  </tbody>\n</table>\n</div>"
          },
          "metadata": {}
        }
      ],
      "execution_count": 25
    },
    {
      "cell_type": "code",
      "source": "from sklearn.preprocessing import LabelEncoder\nl_e=LabelEncoder()\ndf[\"Gender\"]=l_e.fit_transform(df[\"Gender\"])",
      "metadata": {
        "trusted": true
      },
      "outputs": [],
      "execution_count": 26
    },
    {
      "cell_type": "code",
      "source": "df[\"Gender\"]",
      "metadata": {
        "trusted": true
      },
      "outputs": [
        {
          "execution_count": 27,
          "output_type": "execute_result",
          "data": {
            "text/plain": "0      1\n1      1\n2      0\n3      0\n4      0\n      ..\n195    0\n196    0\n197    1\n198    1\n199    1\nName: Gender, Length: 200, dtype: int32"
          },
          "metadata": {}
        }
      ],
      "execution_count": 27
    },
    {
      "cell_type": "code",
      "source": "x=df.drop(columns={\"Spending Score (1-100)\"}, axis=0)\ny=df[\"Spending Score (1-100)\"]",
      "metadata": {
        "trusted": true
      },
      "outputs": [],
      "execution_count": 28
    },
    {
      "cell_type": "code",
      "source": "from sklearn.model_selection import train_test_split\nX_train, X_test,y_train,y_test=train_test_split(x,y,test_size=0.2,random_state=42)",
      "metadata": {
        "trusted": true
      },
      "outputs": [],
      "execution_count": 29
    },
    {
      "cell_type": "code",
      "source": "from sklearn.cluster import KMeans\nfrom sklearn.preprocessing import StandardScaler\nscaler = StandardScaler()\nscaled_data = scaler.fit_transform(x)\n\n# Specify the number of clusters (groups)\nnum_clusters = 3\n\n# Initialize KMeans object\nkmeans = KMeans(n_clusters=num_clusters, random_state=42)\n\n# Fit the KMeans model to the scaled data\nkmeans.fit(scaled_data)\n\n# Get cluster labels\ncluster_labels = kmeans.labels_\n\n# Print cluster labels for each customer\nfor i, label in enumerate(cluster_labels):\n    print(f\"Customer {i+1} is assigned to cluster {label+1}\")\n",
      "metadata": {
        "trusted": true
      },
      "outputs": [
        {
          "name": "stderr",
          "text": "/lib/python3.11/site-packages/sklearn/cluster/_kmeans.py:1416: FutureWarning: The default value of `n_init` will change from 10 to 'auto' in 1.4. Set the value of `n_init` explicitly to suppress the warning\n  super()._check_params_vs_input(X, default_n_init=10)\n/lib/python3.11/site-packages/threadpoolctl.py:1019: RuntimeWarning: libc not found. The ctypes module in Python 3.11 is maybe too old for this OS.\n  warnings.warn(\n",
          "output_type": "stream"
        },
        {
          "name": "stdout",
          "text": "Customer 1 is assigned to cluster 1\nCustomer 2 is assigned to cluster 1\nCustomer 3 is assigned to cluster 1\nCustomer 4 is assigned to cluster 1\nCustomer 5 is assigned to cluster 1\nCustomer 6 is assigned to cluster 1\nCustomer 7 is assigned to cluster 1\nCustomer 8 is assigned to cluster 1\nCustomer 9 is assigned to cluster 3\nCustomer 10 is assigned to cluster 1\nCustomer 11 is assigned to cluster 3\nCustomer 12 is assigned to cluster 1\nCustomer 13 is assigned to cluster 3\nCustomer 14 is assigned to cluster 1\nCustomer 15 is assigned to cluster 1\nCustomer 16 is assigned to cluster 1\nCustomer 17 is assigned to cluster 1\nCustomer 18 is assigned to cluster 1\nCustomer 19 is assigned to cluster 3\nCustomer 20 is assigned to cluster 1\nCustomer 21 is assigned to cluster 1\nCustomer 22 is assigned to cluster 1\nCustomer 23 is assigned to cluster 1\nCustomer 24 is assigned to cluster 1\nCustomer 25 is assigned to cluster 3\nCustomer 26 is assigned to cluster 1\nCustomer 27 is assigned to cluster 1\nCustomer 28 is assigned to cluster 1\nCustomer 29 is assigned to cluster 1\nCustomer 30 is assigned to cluster 1\nCustomer 31 is assigned to cluster 3\nCustomer 32 is assigned to cluster 1\nCustomer 33 is assigned to cluster 3\nCustomer 34 is assigned to cluster 1\nCustomer 35 is assigned to cluster 3\nCustomer 36 is assigned to cluster 1\nCustomer 37 is assigned to cluster 1\nCustomer 38 is assigned to cluster 1\nCustomer 39 is assigned to cluster 1\nCustomer 40 is assigned to cluster 1\nCustomer 41 is assigned to cluster 3\nCustomer 42 is assigned to cluster 1\nCustomer 43 is assigned to cluster 3\nCustomer 44 is assigned to cluster 1\nCustomer 45 is assigned to cluster 3\nCustomer 46 is assigned to cluster 1\nCustomer 47 is assigned to cluster 3\nCustomer 48 is assigned to cluster 1\nCustomer 49 is assigned to cluster 1\nCustomer 50 is assigned to cluster 1\nCustomer 51 is assigned to cluster 3\nCustomer 52 is assigned to cluster 1\nCustomer 53 is assigned to cluster 1\nCustomer 54 is assigned to cluster 3\nCustomer 55 is assigned to cluster 3\nCustomer 56 is assigned to cluster 3\nCustomer 57 is assigned to cluster 3\nCustomer 58 is assigned to cluster 3\nCustomer 59 is assigned to cluster 1\nCustomer 60 is assigned to cluster 3\nCustomer 61 is assigned to cluster 3\nCustomer 62 is assigned to cluster 1\nCustomer 63 is assigned to cluster 3\nCustomer 64 is assigned to cluster 3\nCustomer 65 is assigned to cluster 3\nCustomer 66 is assigned to cluster 1\nCustomer 67 is assigned to cluster 3\nCustomer 68 is assigned to cluster 3\nCustomer 69 is assigned to cluster 1\nCustomer 70 is assigned to cluster 1\nCustomer 71 is assigned to cluster 3\nCustomer 72 is assigned to cluster 3\nCustomer 73 is assigned to cluster 3\nCustomer 74 is assigned to cluster 3\nCustomer 75 is assigned to cluster 3\nCustomer 76 is assigned to cluster 1\nCustomer 77 is assigned to cluster 3\nCustomer 78 is assigned to cluster 3\nCustomer 79 is assigned to cluster 1\nCustomer 80 is assigned to cluster 3\nCustomer 81 is assigned to cluster 3\nCustomer 82 is assigned to cluster 3\nCustomer 83 is assigned to cluster 3\nCustomer 84 is assigned to cluster 3\nCustomer 85 is assigned to cluster 1\nCustomer 86 is assigned to cluster 3\nCustomer 87 is assigned to cluster 3\nCustomer 88 is assigned to cluster 1\nCustomer 89 is assigned to cluster 1\nCustomer 90 is assigned to cluster 3\nCustomer 91 is assigned to cluster 3\nCustomer 92 is assigned to cluster 1\nCustomer 93 is assigned to cluster 3\nCustomer 94 is assigned to cluster 3\nCustomer 95 is assigned to cluster 1\nCustomer 96 is assigned to cluster 2\nCustomer 97 is assigned to cluster 3\nCustomer 98 is assigned to cluster 1\nCustomer 99 is assigned to cluster 3\nCustomer 100 is assigned to cluster 2\nCustomer 101 is assigned to cluster 1\nCustomer 102 is assigned to cluster 3\nCustomer 103 is assigned to cluster 3\nCustomer 104 is assigned to cluster 2\nCustomer 105 is assigned to cluster 3\nCustomer 106 is assigned to cluster 1\nCustomer 107 is assigned to cluster 3\nCustomer 108 is assigned to cluster 3\nCustomer 109 is assigned to cluster 3\nCustomer 110 is assigned to cluster 3\nCustomer 111 is assigned to cluster 3\nCustomer 112 is assigned to cluster 1\nCustomer 113 is assigned to cluster 2\nCustomer 114 is assigned to cluster 2\nCustomer 115 is assigned to cluster 2\nCustomer 116 is assigned to cluster 2\nCustomer 117 is assigned to cluster 3\nCustomer 118 is assigned to cluster 3\nCustomer 119 is assigned to cluster 3\nCustomer 120 is assigned to cluster 3\nCustomer 121 is assigned to cluster 2\nCustomer 122 is assigned to cluster 2\nCustomer 123 is assigned to cluster 2\nCustomer 124 is assigned to cluster 2\nCustomer 125 is assigned to cluster 2\nCustomer 126 is assigned to cluster 2\nCustomer 127 is assigned to cluster 2\nCustomer 128 is assigned to cluster 2\nCustomer 129 is assigned to cluster 3\nCustomer 130 is assigned to cluster 2\nCustomer 131 is assigned to cluster 2\nCustomer 132 is assigned to cluster 2\nCustomer 133 is assigned to cluster 2\nCustomer 134 is assigned to cluster 2\nCustomer 135 is assigned to cluster 2\nCustomer 136 is assigned to cluster 2\nCustomer 137 is assigned to cluster 2\nCustomer 138 is assigned to cluster 2\nCustomer 139 is assigned to cluster 2\nCustomer 140 is assigned to cluster 2\nCustomer 141 is assigned to cluster 3\nCustomer 142 is assigned to cluster 2\nCustomer 143 is assigned to cluster 2\nCustomer 144 is assigned to cluster 2\nCustomer 145 is assigned to cluster 2\nCustomer 146 is assigned to cluster 2\nCustomer 147 is assigned to cluster 2\nCustomer 148 is assigned to cluster 2\nCustomer 149 is assigned to cluster 2\nCustomer 150 is assigned to cluster 2\nCustomer 151 is assigned to cluster 2\nCustomer 152 is assigned to cluster 2\nCustomer 153 is assigned to cluster 2\nCustomer 154 is assigned to cluster 2\nCustomer 155 is assigned to cluster 2\nCustomer 156 is assigned to cluster 2\nCustomer 157 is assigned to cluster 2\nCustomer 158 is assigned to cluster 2\nCustomer 159 is assigned to cluster 2\nCustomer 160 is assigned to cluster 2\nCustomer 161 is assigned to cluster 2\nCustomer 162 is assigned to cluster 2\nCustomer 163 is assigned to cluster 2\nCustomer 164 is assigned to cluster 2\nCustomer 165 is assigned to cluster 2\nCustomer 166 is assigned to cluster 2\nCustomer 167 is assigned to cluster 2\nCustomer 168 is assigned to cluster 2\nCustomer 169 is assigned to cluster 2\nCustomer 170 is assigned to cluster 2\nCustomer 171 is assigned to cluster 2\nCustomer 172 is assigned to cluster 2\nCustomer 173 is assigned to cluster 2\nCustomer 174 is assigned to cluster 2\nCustomer 175 is assigned to cluster 2\nCustomer 176 is assigned to cluster 2\nCustomer 177 is assigned to cluster 2\nCustomer 178 is assigned to cluster 2\nCustomer 179 is assigned to cluster 2\nCustomer 180 is assigned to cluster 2\nCustomer 181 is assigned to cluster 2\nCustomer 182 is assigned to cluster 2\nCustomer 183 is assigned to cluster 2\nCustomer 184 is assigned to cluster 2\nCustomer 185 is assigned to cluster 2\nCustomer 186 is assigned to cluster 2\nCustomer 187 is assigned to cluster 2\nCustomer 188 is assigned to cluster 2\nCustomer 189 is assigned to cluster 2\nCustomer 190 is assigned to cluster 2\nCustomer 191 is assigned to cluster 2\nCustomer 192 is assigned to cluster 2\nCustomer 193 is assigned to cluster 2\nCustomer 194 is assigned to cluster 2\nCustomer 195 is assigned to cluster 2\nCustomer 196 is assigned to cluster 2\nCustomer 197 is assigned to cluster 2\nCustomer 198 is assigned to cluster 2\nCustomer 199 is assigned to cluster 2\nCustomer 200 is assigned to cluster 2\n",
          "output_type": "stream"
        }
      ],
      "execution_count": 31
    },
    {
      "cell_type": "code",
      "source": "from sklearn.metrics import silhouette_score\n\n# Compute silhouette score\nsilhouette_avg = silhouette_score(scaled_data, cluster_labels)\nprint(f\"Silhouette Score: {silhouette_avg}\")\n\n# Get inertia\ninertia = kmeans.inertia_\nprint(f\"Inertia: {inertia}\")\n",
      "metadata": {
        "trusted": true
      },
      "outputs": [
        {
          "name": "stdout",
          "text": "Silhouette Score: 0.3217788177867182\nInertia: 386.6085554259127\n",
          "output_type": "stream"
        }
      ],
      "execution_count": 32
    },
    {
      "cell_type": "code",
      "source": "",
      "metadata": {
        "trusted": true
      },
      "outputs": [],
      "execution_count": null
    }
  ]
}